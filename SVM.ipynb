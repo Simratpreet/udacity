{
 "cells": [
  {
   "cell_type": "markdown",
   "metadata": {
    "collapsed": false
   },
   "source": [
    "# Support Vector Machines (SVMs)"
   ]
  },
  {
   "cell_type": "markdown",
   "metadata": {
    "collapsed": false
   },
   "source": [
    "Best Line Quiz<br>\n",
    "    -  Middle line is best\n",
    "    -  Line close to positives/negatives may overfit\n",
    "    -  Middle line consistent with data and committing least to it\n",
    "    -  This is basis of SVMs\n",
    "<br>\n",
    "__Middle line should be at maximum distant from boundaries__"
   ]
  },
  {
   "cell_type": "markdown",
   "metadata": {
    "collapsed": false
   },
   "source": [
    "## Equation of hyper-plane\n",
    "y = w<sup>T</sup>x + b\n",
    "<br>\n",
    "y = classifiaction label<br>\n",
    "w<sup>T</sup> = parameter of the plane"
   ]
  },
  {
   "cell_type": "markdown",
   "metadata": {
    "collapsed": false
   },
   "source": [
    "Middle Line: w<sup>T</sup>x + b = 0<br>\n",
    "B1: w<sup>T</sup>x + b = 1<br>\n",
    "B2: w<sup>T</sup>x + b = -1\n",
    "<br>\n",
    "<br>\n",
    "### Distance between planes\n",
    "w<sup>T</sup>x + b = 1<br>\n",
    "-w<sup>T</sup>x + b = -1\n",
    "\n",
    "#### $\\frac{w^T}{|w|}(x1-x2) = \\frac{2}{|w|}$<br>\n",
    "$\\frac{w^T}{|w|}(x1-x2)$ => margin\n",
    "\n",
    "#### Maximize $\\frac{2}{|w|}$ by classifying everything correctly\n",
    "<br>\n",
    "This can be done by solving <br>\n",
    "a. $yi(w^T xi + b) >= 1$<bR>\n",
    "b. minimizing $\\frac{1}{2} (|w|^2)$\n",
    "    \n",
    "This is transformed to quadratic programming equation:<br>\n",
    "####$W(\\sum"
   ]
  }
 ],
 "metadata": {
  "kernelspec": {
   "display_name": "SageMath (stable)",
   "name": "sagemath"
  },
  "language_info": {
   "codemirror_mode": {
    "name": "ipython",
    "version": 2
   },
   "file_extension": ".py",
   "mimetype": "text/x-python",
   "name": "python",
   "nbconvert_exporter": "python",
   "pygments_lexer": "ipython2",
   "version": "2.7.14"
  }
 },
 "nbformat": 4,
 "nbformat_minor": 0
}